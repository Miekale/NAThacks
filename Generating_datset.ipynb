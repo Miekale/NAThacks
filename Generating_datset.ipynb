{
 "cells": [
  {
   "cell_type": "code",
   "execution_count": 51,
   "metadata": {},
   "outputs": [],
   "source": [
    "import sys\n",
    "import matplotlib.pyplot as plt\n",
    "import numpy as np\n",
    "from scipy.io import wavfile\n",
    "from scipy import signal\n",
    "import pyedflib\n",
    "from pyedflib import highlevel\n",
    "import os"
   ]
  },
  {
   "cell_type": "code",
   "execution_count": 52,
   "metadata": {},
   "outputs": [],
   "source": [
    "#Constants \n",
    "dataPath = r\"C:\\Users\\Humperdink2\\Documents\\github\\NAThacks\\Data\\files\"\n",
    "outPath = r\"C:\\Users\\Humperdink2\\Documents\\github\\NAThacks\\spec_data\\train\"\n",
    "channels = [\"C3..\", \"C4..\",\"CZ..\",\"F4..\"]\n",
    "labels = {\n",
    "    \"T0\" : \"rest\",\n",
    "    \"T1\" : [\"leftHand\", \"bothHands\"],\n",
    "    \"T2\" : [\"rightHand\", \"bothFeet\"]\n",
    "}\n",
    "frequency = 160\n",
    "time_period = 640\n",
    "prc_overlap = .90"
   ]
  },
  {
   "cell_type": "code",
   "execution_count": null,
   "metadata": {},
   "outputs": [],
   "source": [
    "#Generating spectograms\n",
    "\n",
    "for folder in os.listdir(dataPath):\n",
    "    for fileName in os.listdir(os.path.join(dataPath,folder)):\n",
    "\n",
    "        #Skipping files .event files\n",
    "        if fileName.find(\"event\") != -1:\n",
    "            continue\n",
    "\n",
    "        #reading EDF file and extracting \n",
    "        filePath = os.path.join(dataPath,folder,fileName)\n",
    "        annotations = \"\"\n",
    "        file = \"\"\n",
    "\n",
    "        #Getting the annotations\n",
    "        file = pyedflib.EdfReader(filePath)  \n",
    "        annotations = file.readAnnotations()\n",
    "        file.close()\n",
    "\n",
    "        signals, signal_headers, header = highlevel.read_edf(filePath, ch_names=channels)\n",
    "        count = 0\n",
    "        #Creating Spectogram files\n",
    "        for i, period in enumerate(annotations[0]):\n",
    "\n",
    "            #Getting signal data for 4 second period\n",
    "            data = signals[:,int(annotations[0][i]):int(annotations[0][i]+time_period)]\n",
    "\n",
    "            f, t, image = signal.spectrogram(data,frequency, nperseg = frequency, noverlap = frequency*prc_overlap)\n",
    "            image = np.transpose(image,(1,2,0))\n",
    "\n",
    "            figure = plt.pcolormesh(t, f, image[:,:,0], shading='gouraud')\n",
    "            plt.ylim(0,40)\n",
    "            plt.axis('off')\n",
    "\n",
    "            #Assigning label to file\n",
    "            label = annotations[2][i]\n",
    "\n",
    "            #Categories of the different tests\n",
    "            leftOrRight = [\"03\",\"04\",\"07\",\"08\",\"11\",\"12\"]\n",
    "            if label == \"T1\":\n",
    "                if any(x == fileName[6:8] for x in leftOrRight):\n",
    "                    label = labels[\"T1\"][0]\n",
    "                else:\n",
    "                    label = labels[\"T1\"][1]\n",
    "            elif label == \"T2\":\n",
    "                if any(x == fileName[6:8] for x in leftOrRight):\n",
    "                    label = labels[\"T2\"][0]\n",
    "                else:\n",
    "                    label = labels[\"T2\"][1]\n",
    "            else:\n",
    "                label = labels[\"T0\"]\n",
    "\n",
    "            #Naming and saving the file\n",
    "            file_name = os.path.join(outPath,label, f\"{fileName[0:len(fileName)-4]}_{count}.png\")\n",
    "            plt.savefig(file_name, bbox_inches=\"tight\", pad_inches=0)\n",
    "            count += 1"
   ]
  }
 ],
 "metadata": {
  "kernelspec": {
   "display_name": "nathacks",
   "language": "python",
   "name": "python3"
  },
  "language_info": {
   "codemirror_mode": {
    "name": "ipython",
    "version": 3
   },
   "file_extension": ".py",
   "mimetype": "text/x-python",
   "name": "python",
   "nbconvert_exporter": "python",
   "pygments_lexer": "ipython3",
   "version": "3.10.13"
  }
 },
 "nbformat": 4,
 "nbformat_minor": 2
}
