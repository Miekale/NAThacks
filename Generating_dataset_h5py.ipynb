{
 "cells": [
  {
   "cell_type": "code",
   "execution_count": 114,
   "metadata": {
    "ExecuteTime": {
     "end_time": "2024-01-02T18:35:36.687510Z",
     "start_time": "2024-01-02T18:35:36.584983200Z"
    }
   },
   "outputs": [],
   "source": [
    "import sys\n",
    "import matplotlib.pyplot as plt\n",
    "import numpy as np\n",
    "from scipy.io import wavfile\n",
    "from scipy import signal\n",
    "import pyedflib\n",
    "from pyedflib import highlevel\n",
    "import os\n",
    "import h5py\n",
    "import torch\n",
    "import torchvision"
   ]
  },
  {
   "cell_type": "code",
   "execution_count": 115,
   "metadata": {
    "ExecuteTime": {
     "end_time": "2024-01-02T18:35:36.742517600Z",
     "start_time": "2024-01-02T18:35:36.599983300Z"
    }
   },
   "outputs": [],
   "source": [
    "#Constants \n",
    "dataPath = r\"C:\\Users\\Humperdink2\\Documents\\github\\NAThacks\\Data\\files\"\n",
    "h5Path = r\"h5py/1personval2.h5\"\n",
    "numChannels = 64\n",
    "labels = {\n",
    "    \"T0\" : \"rest\",\n",
    "    \"T1\" : [\"leftHand\", \"bothHands\"],\n",
    "    \"T2\" : [\"rightHand\", \"bothFeet\"]\n",
    "}\n",
    "labelsDict = {\n",
    "    \"rest\": 0,\n",
    "    \"leftHand\": 1,\n",
    "    \"rightHand\": 2,\n",
    "    \"bothHands\": 3,\n",
    "    \"bothFeet\": 4\n",
    "}\n",
    "frequency = 160\n",
    "time_period = 640\n",
    "prc_overlap = .90\n",
    "chunk_size = 5000"
   ]
  },
  {
   "cell_type": "code",
   "execution_count": 116,
   "metadata": {
    "ExecuteTime": {
     "end_time": "2024-01-02T18:35:36.742517600Z",
     "start_time": "2024-01-02T18:35:36.612982900Z"
    }
   },
   "outputs": [],
   "source": [
    "samples = []\n",
    "labels = []"
   ]
  },
  {
   "cell_type": "code",
   "execution_count": null,
   "metadata": {
    "ExecuteTime": {
     "end_time": "2024-01-02T18:35:36.744519100Z",
     "start_time": "2024-01-02T18:35:36.663510200Z"
    },
    "collapsed": false
   },
   "outputs": [],
   "source": [
    "with h5py.File(h5Path, \"w\") as specs:\n",
    "    specs.create_dataset(\"Samples\",(0,81,31,64), maxshape=(None,81,31,64),compression=\"gzip\")\n",
    "    specs.create_dataset(\"Classes\",(0,0), maxshape=(None,1), compression=\"gzip\")\n",
    "    print(f\"h5 made, stores: Samples - {specs['Samples'].shape} | Classes - {specs['Classes'].shape}\")"
   ]
  },
  {
   "cell_type": "code",
   "execution_count": 118,
   "metadata": {
    "ExecuteTime": {
     "end_time": "2024-01-02T18:35:36.744519100Z",
     "start_time": "2024-01-02T18:35:36.697510600Z"
    },
    "collapsed": false
   },
   "outputs": [],
   "source": [
    "def storeDataSingle(dataSamples, dataLabels, size):\n",
    "    with h5py.File(h5Path, \"r+\") as f:\n",
    "        #Shuffling entries in the chunk\n",
    "        tempLabels = []\n",
    "        tempSamples = []\n",
    "        order = np.random.permutation(np.arange(size))\n",
    "        for pos in order:\n",
    "            tempLabels.append(dataLabels[pos])\n",
    "            tempSamples.append(dataSamples[pos])\n",
    "        \n",
    "        #Updating Samples\n",
    "        df = f['Samples']\n",
    "        current_shape = df.shape\n",
    "        df.resize((current_shape[0] + size, 81, 31, 64))\n",
    "        print(f\" temp size is {np.array(tempSamples).shape}\")\n",
    "        df[current_shape[0]:, :] = tempSamples\n",
    "        print(f\"Samples adjusted to {df.shape}\")\n",
    "\n",
    "        # Update Lables\n",
    "        labels = f['Classes']\n",
    "        labels.resize((current_shape[0] + size,0))\n",
    "        labels[current_shape[0]:,:] = tempLabels\n",
    "        print(f\"Classes adjusted to {labels.shape}\")\n"
   ]
  },
  {
   "cell_type": "code",
   "execution_count": null,
   "metadata": {
    "ExecuteTime": {
     "end_time": "2024-01-02T18:40:18.360225200Z",
     "start_time": "2024-01-02T18:35:36.710511200Z"
    }
   },
   "outputs": [],
   "source": [
    "#Generating spectograms Images\n",
    "person = 1\n",
    "for folder in os.listdir(dataPath):\n",
    "    for fileName in os.listdir(os.path.join(dataPath,folder)):\n",
    "\n",
    "        #Skipping files .event files\n",
    "        if fileName.find(\"event\") != -1:\n",
    "            continue\n",
    "\n",
    "        #reading EDF file and extracting data\n",
    "        filePath = os.path.join(dataPath,folder,fileName)\n",
    "        annotations = \"\"\n",
    "        file = \"\"\n",
    "\n",
    "        #Getting the annotations and Data\n",
    "        file = pyedflib.EdfReader(filePath)\n",
    "        annotations = file.readAnnotations()\n",
    "        file.close()\n",
    "\n",
    "        signals, signal_headers, header = highlevel.read_edf(filePath)\n",
    "        \n",
    "        count = 0\n",
    "        \n",
    "        #Looping through the various \n",
    "        for i, period in enumerate(annotations[0]):\n",
    "            #Getting signal data for 4 second period\n",
    "            data = signals[:,int(annotations[0][i]):int(annotations[0][i]+time_period)]\n",
    "\n",
    "            f, t, image = signal.spectrogram(data,frequency, nperseg = frequency, noverlap = frequency * prc_overlap)\n",
    "            image = np.transpose(image,(1,2,0))\n",
    "\n",
    "            #Assigning label to file\n",
    "            label = annotations[2][i]\n",
    "\n",
    "            #Categories of the different tests\n",
    "            leftOrRight = [\"03\",\"04\",\"07\",\"08\",\"11\",\"12\"]\n",
    "            if label == \"T1\":\n",
    "                if any(x == fileName[5:7] for x in leftOrRight):\n",
    "                    labels.append(labelsDict[\"leftHand\"])\n",
    "                else: \n",
    "                    labels.append(labelsDict[\"bothHands\"])\n",
    "            elif label == \"T2\":\n",
    "                if any(x == fileName[5:7] for x in leftOrRight):\n",
    "                    labels.append(labelsDict[\"rightHand\"])\n",
    "                else:\n",
    "                    labels.append(labelsDict[\"bothFeet\"])\n",
    "            else:\n",
    "                labels.append(labelsDict[\"rest\"])\n",
    "\n",
    "            samples.append(image)\n",
    "            if len(labels) == chunk_size:\n",
    "                storeDataSingle(samples, labels, chunk_size)\n",
    "                labels = []\n",
    "                samples = []\n",
    "                \n",
    "            count += 1\n",
    "    print(f\"person {person} completed\")\n",
    "    person +=1"
   ]
  },
  {
   "cell_type": "code",
   "execution_count": null,
   "metadata": {
    "ExecuteTime": {
     "end_time": "2024-01-02T18:40:47.806047900Z",
     "start_time": "2024-01-02T18:40:47.731043600Z"
    }
   },
   "outputs": [],
   "source": [
    "storeDataSingle(samples, labels, len(samples))"
   ]
  }
 ],
 "metadata": {
  "kernelspec": {
   "display_name": "nathacks",
   "language": "python",
   "name": "python3"
  },
  "language_info": {
   "codemirror_mode": {
    "name": "ipython",
    "version": 3
   },
   "file_extension": ".py",
   "mimetype": "text/x-python",
   "name": "python",
   "nbconvert_exporter": "python",
   "pygments_lexer": "ipython3",
   "version": "3.10.13"
  }
 },
 "nbformat": 4,
 "nbformat_minor": 2
}
