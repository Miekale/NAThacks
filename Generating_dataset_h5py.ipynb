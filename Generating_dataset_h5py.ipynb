{
 "cells": [
  {
   "cell_type": "code",
   "execution_count": 40,
   "metadata": {},
   "outputs": [],
   "source": [
    "import sys\n",
    "import matplotlib.pyplot as plt\n",
    "import numpy as np\n",
    "from scipy.io import wavfile\n",
    "from scipy import signal\n",
    "import pyedflib\n",
    "from pyedflib import highlevel\n",
    "import os\n",
    "import h5py"
   ]
  },
  {
   "cell_type": "code",
   "execution_count": 41,
   "metadata": {},
   "outputs": [],
   "source": [
    "#Constants \n",
    "dataPath = r\"C:\\Users\\Humperdink2\\Documents\\github\\NAThacks\\Data\\files\"\n",
    "outPath = r\"C:\\Users\\Humperdink2\\Documents\\github\\NAThacks\\spec_data\\train\"\n",
    "h5Path = r\"h5py/specs.h5\"\n",
    "numChannels = 64\n",
    "labels = {\n",
    "    \"T0\" : \"rest\",\n",
    "    \"T1\" : [\"leftHand\", \"bothHands\"],\n",
    "    \"T2\" : [\"rightHand\", \"bothFeet\"]\n",
    "}\n",
    "frequency = 160\n",
    "time_period = 640\n",
    "prc_overlap = .90\n",
    "chunk_size = 2500"
   ]
  },
  {
   "cell_type": "code",
   "execution_count": 47,
   "metadata": {},
   "outputs": [],
   "source": [
    "rest = []\n",
    "leftHand = []\n",
    "rightHand = []\n",
    "bothHands = []\n",
    "bothFeet = []"
   ]
  },
  {
   "cell_type": "code",
   "execution_count": 43,
   "metadata": {},
   "outputs": [],
   "source": [
    "with h5py.File(\"h5py/specs.h5\", \"w\") as specs:\n",
    "    specs.create_dataset(\"rest\",(chunk_size,81,31,64), maxshape=(None,81,31,64),compression=\"gzip\")\n",
    "    specs.create_dataset(\"leftHand\",(chunk_size,81,31,64), maxshape=(None,81,31,64), compression=\"gzip\")\n",
    "    specs.create_dataset(\"rightHand\",(chunk_size,81,31,64), maxshape=(None,81,31,64), compression=\"gzip\")\n",
    "    specs.create_dataset(\"bothHands\",(chunk_size,81,31,64), maxshape=(None,81,31,64), compression=\"gzip\")\n",
    "    specs.create_dataset(\"bothFeet\",(chunk_size,81,31,64), maxshape=(None,81,31,64), compression=\"gzip\")\n",
    "\n",
    "def storeData(data, dataset : str, size):\n",
    "    with h5py.File(h5Path, \"r+\") as f:\n",
    "        df = f[dataset]\n",
    "        current_shape = df.shape\n",
    "        df.resize((current_shape[0] + size, 81, 31, 64))\n",
    "        df[current_shape[0]:, :] = data\n",
    "        print(f\"{dataset} adjusted to {current_shape[0] + size}\")"
   ]
  },
  {
   "cell_type": "code",
   "execution_count": null,
   "metadata": {},
   "outputs": [],
   "source": [
    "#Generating spectograms Images\n",
    "person = 1\n",
    "for folder in os.listdir(dataPath):\n",
    "    for fileName in os.listdir(os.path.join(dataPath,folder)):\n",
    "\n",
    "        #Skipping files .event files\n",
    "        if fileName.find(\"event\") != -1:\n",
    "            continue\n",
    "\n",
    "        #reading EDF file and extracting data\n",
    "        filePath = os.path.join(dataPath,folder,fileName)\n",
    "        annotations = \"\"\n",
    "        file = \"\"\n",
    "\n",
    "        #Getting the annotations and Data\n",
    "        file = pyedflib.EdfReader(filePath)\n",
    "        annotations = file.readAnnotations()\n",
    "        file.close()\n",
    "\n",
    "        signals, signal_headers, header = highlevel.read_edf(filePath)\n",
    "        \n",
    "        count = 0\n",
    "        \n",
    "        #Looping through the various \n",
    "        for i, period in enumerate(annotations[0]):\n",
    "            #Getting signal data for 4 second period\n",
    "            data = signals[:,int(annotations[0][i]):int(annotations[0][i]+time_period)]\n",
    "\n",
    "            f, t, image = signal.spectrogram(data,frequency, nperseg = frequency, noverlap = frequency * prc_overlap)\n",
    "            image = np.transpose(image,(1,2,0))\n",
    "\n",
    "            #Assigning label to file\n",
    "            label = annotations[2][i]\n",
    "\n",
    "            #Categories of the different tests\n",
    "            leftOrRight = [\"03\",\"04\",\"07\",\"08\",\"11\",\"12\"]\n",
    "            if label == \"T1\":\n",
    "                if any(x == fileName[5:7] for x in leftOrRight):\n",
    "                    leftHand.append(image)\n",
    "                    if len(leftHand) == chunk_size:\n",
    "                        storeData(leftHand,\"leftHand\", chunk_size)\n",
    "                        leftHand = []\n",
    "                else: \n",
    "                    bothHands.append(image)\n",
    "                    if len(bothHands) == chunk_size:\n",
    "                        storeData(bothHands,\"bothHands\", chunk_size)\n",
    "                        bothHands = []\n",
    "            elif label == \"T2\":\n",
    "                if any(x == fileName[5:7] for x in leftOrRight):\n",
    "                    rightHand.append(image)\n",
    "                    if len(rightHand) == chunk_size:\n",
    "                        storeData(rightHand,\"rightHand\", chunk_size)\n",
    "                        rightHand = []\n",
    "                else:\n",
    "                    bothFeet.append(image)\n",
    "                    if len(bothFeet) == chunk_size:\n",
    "                        storeData(bothFeet,\"bothFeet\", chunk_size)\n",
    "                        bothFeet = []\n",
    "            else:\n",
    "                rest.append(image)\n",
    "                if len(rest) == chunk_size:\n",
    "                        storeData(rest,\"rest\", chunk_size)\n",
    "                        rest = []\n",
    "            count += 1\n",
    "    print(f\"person {person} completed\")\n",
    "    person +=1"
   ]
  },
  {
   "cell_type": "code",
   "execution_count": 46,
   "metadata": {},
   "outputs": [
    {
     "name": "stdout",
     "output_type": "stream",
     "text": [
      "rest adjusted to 23736\n",
      "bothFeet adjusted to 7144\n",
      "leftHand adjusted to 7161\n",
      "rightHand adjusted to 7109\n",
      "bothHands adjusted to 7115\n"
     ]
    }
   ],
   "source": [
    "storeData(rest,\"rest\", len(rest))\n",
    "rest = []\n",
    "storeData(bothFeet,\"bothFeet\", len(bothFeet))\n",
    "bothFeet = []\n",
    "storeData(leftHand,\"leftHand\", len(leftHand))\n",
    "leftHand = []\n",
    "storeData(rightHand, \"rightHand\",len(rightHand))\n",
    "rightHand = []\n",
    "storeData(bothHands,\"bothHands\",len(bothHands))\n",
    "bothHands = []"
   ]
  }
 ],
 "metadata": {
  "kernelspec": {
   "display_name": "nathacks",
   "language": "python",
   "name": "python3"
  },
  "language_info": {
   "codemirror_mode": {
    "name": "ipython",
    "version": 3
   },
   "file_extension": ".py",
   "mimetype": "text/x-python",
   "name": "python",
   "nbconvert_exporter": "python",
   "pygments_lexer": "ipython3",
   "version": "3.10.13"
  }
 },
 "nbformat": 4,
 "nbformat_minor": 2
}
